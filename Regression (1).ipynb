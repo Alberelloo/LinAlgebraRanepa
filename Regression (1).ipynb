{
 "cells": [
  {
   "cell_type": "markdown",
   "metadata": {
    "colab_type": "text",
    "id": "SLiBxjBJ9IMs"
   },
   "source": [
    "# 1. Регрессионные модели"
   ]
  },
  {
   "cell_type": "markdown",
   "metadata": {},
   "source": [
    "**План занятия**\n",
    "\n",
    "* [Теоретическая часть](#theory)\n",
    "    * [Основные понятия](#0)\n",
    "    * [Линейная парная регрессия](#1) \n",
    "    * [Линейная множественная регрессия](#2)\n",
    "    * [Элементы матричного анализа](#3)"
   ]
  },
  {
   "cell_type": "markdown",
   "metadata": {},
   "source": [
    "## <center>Теоретическая часть<a class=\"anchor\" id=\"theory\"></a><center>"
   ]
  },
  {
   "cell_type": "markdown",
   "metadata": {
    "colab_type": "text",
    "id": "AgfZohhE9IMz"
   },
   "source": [
    "## Основные понятия<a class=\"anchor\" id=\"0\">"
   ]
  },
  {
   "cell_type": "markdown",
   "metadata": {},
   "source": [
    "### Определения"
   ]
  },
  {
   "cell_type": "markdown",
   "metadata": {
    "colab_type": "text",
    "id": "oCRpRG3-9IM0"
   },
   "source": [
    "* <b>Регрессией</b> в теории вероятностей и математической статистике принято называть зависимость среднего значения какой-либо величины ($y$) от некоторой другой величины или от нескольких величин ($х_{i}$).\n",
    "\n",
    "* C точки зрения информатики, <b>регрессионная модель </b> - это функция, которая принимает на вход значения атрибутов какого-то конкретного объекта и выдает на выходе предполагаемое значение целевой переменной.\n",
    "\n",
    "* Уравнение корреляционной связи между фактором х и результативом y, выраженное в виде математической зависимости, называется <b>уравнением регрессии</b>."
   ]
  },
  {
   "cell_type": "markdown",
   "metadata": {},
   "source": [
    "### Задача регрессии"
   ]
  },
  {
   "cell_type": "markdown",
   "metadata": {},
   "source": [
    "Задачи регрессии на практике встречаются довольно часто.\n",
    "\n",
    "<b>Примеры</b>:\n",
    "1. Предсказание цены объекта недвижимости по характеристикам квартир/домов;\n",
    "2. Предсказание цены акций или других финансовых активов по историческим данным;\n",
    "3. Предсказание температуры по метерологическим данным;\n"
   ]
  },
  {
   "cell_type": "markdown",
   "metadata": {},
   "source": [
    "### Классификация регрессии"
   ]
  },
  {
   "cell_type": "markdown",
   "metadata": {},
   "source": [
    "<b>1. По количеству факторов</b>:\n",
    "   1. <i>Простой (парной) </i>  \n",
    "   $\\hat{y} = f(x)$\n",
    "   2. <i>Множественной (многофакторной) </i>  \n",
    "   $\\hat{y} = f(x_{1},x_{2}, \\dots,x_{n})$\n",
    "\n",
    "<b>2. По виду модели</b>:\n",
    "\n",
    "   1. <i>Линейной</i>   -- $\\hat{y} = w_{0} + w_{1}x$   \n",
    "   2. <i>Нелинейной</i>   \n",
    "     1. <i>Параболическая</i> -- $\\hat{y} = w_{0} + w_{1}x + w_{2}x^2$\n",
    "     2. <i>Гиперболическая</i> -- $\\hat{y} = w_{0} + \\frac{w_{1}}{x}$      \n",
    "     3. <i>Логарифмическая</i> -- $\\hat{y} = w_{0} + w_{1}ln(x)$     \n",
    "     4. <i>Степенная</i> -- $\\hat{y} = w_{0} + x^w_{1}$     \n",
    "     5. <i>Показательная</i> -- $\\hat{y} = w_{0} + w_{1}^x$\n",
    "  \n"
   ]
  },
  {
   "cell_type": "markdown",
   "metadata": {},
   "source": [
    "__Замечание:__\n",
    "\n",
    "Любые реальные собранные данные всегда содержат в себе какую-то долю ошибки (погрешность измерения, шумовые данные ...), поэтому в уравнение регрессии принято указывать эту случайную ошибку $\\epsilon$, отвечающую за непредсказуемые/непредвиденные факторы влияния:\n",
    "\n",
    "Парная регрессия - $\\hat{y} = f(x) + \\epsilon$, множественная -  $\\hat{y} = f(x_{1},x_{2}, \\dots,x_{n}) + \\epsilon$"
   ]
  },
  {
   "cell_type": "markdown",
   "metadata": {},
   "source": [
    "### Постановка задачи"
   ]
  },
  {
   "cell_type": "markdown",
   "metadata": {},
   "source": [
    "По имеющимся n наблюдениям найти зависимость ŷ = f(x), наилучшим образом описывающую данные наблюдений."
   ]
  },
  {
   "cell_type": "markdown",
   "metadata": {},
   "source": [
    "<b> Табличное представление данные </b>"
   ]
  },
  {
   "cell_type": "code",
   "execution_count": 20,
   "metadata": {
    "scrolled": true
   },
   "outputs": [
    {
     "data": {
      "text/html": [
       "<div>\n",
       "<style scoped>\n",
       "    .dataframe tbody tr th:only-of-type {\n",
       "        vertical-align: middle;\n",
       "    }\n",
       "\n",
       "    .dataframe tbody tr th {\n",
       "        vertical-align: top;\n",
       "    }\n",
       "\n",
       "    .dataframe thead th {\n",
       "        text-align: right;\n",
       "    }\n",
       "</style>\n",
       "<table border=\"1\" class=\"dataframe\">\n",
       "  <thead>\n",
       "    <tr style=\"text-align: right;\">\n",
       "      <th></th>\n",
       "      <th>Средний балл ЕГЭ</th>\n",
       "      <th>Уровень бедности</th>\n",
       "    </tr>\n",
       "  </thead>\n",
       "  <tbody>\n",
       "    <tr>\n",
       "      <th>0</th>\n",
       "      <td>79.9</td>\n",
       "      <td>14.6</td>\n",
       "    </tr>\n",
       "    <tr>\n",
       "      <th>1</th>\n",
       "      <td>90.6</td>\n",
       "      <td>8.3</td>\n",
       "    </tr>\n",
       "    <tr>\n",
       "      <th>2</th>\n",
       "      <td>83.8</td>\n",
       "      <td>13.3</td>\n",
       "    </tr>\n",
       "    <tr>\n",
       "      <th>3</th>\n",
       "      <td>80.9</td>\n",
       "      <td>18.0</td>\n",
       "    </tr>\n",
       "    <tr>\n",
       "      <th>4</th>\n",
       "      <td>81.1</td>\n",
       "      <td>12.8</td>\n",
       "    </tr>\n",
       "    <tr>\n",
       "      <th>5</th>\n",
       "      <td>88.7</td>\n",
       "      <td>9.4</td>\n",
       "    </tr>\n",
       "    <tr>\n",
       "      <th>6</th>\n",
       "      <td>87.5</td>\n",
       "      <td>7.8</td>\n",
       "    </tr>\n",
       "    <tr>\n",
       "      <th>7</th>\n",
       "      <td>88.7</td>\n",
       "      <td>8.1</td>\n",
       "    </tr>\n",
       "    <tr>\n",
       "      <th>8</th>\n",
       "      <td>86.0</td>\n",
       "      <td>16.8</td>\n",
       "    </tr>\n",
       "    <tr>\n",
       "      <th>9</th>\n",
       "      <td>84.7</td>\n",
       "      <td>12.1</td>\n",
       "    </tr>\n",
       "  </tbody>\n",
       "</table>\n",
       "</div>"
      ],
      "text/plain": [
       "   Средний балл ЕГЭ  Уровень бедности\n",
       "0              79.9              14.6\n",
       "1              90.6               8.3\n",
       "2              83.8              13.3\n",
       "3              80.9              18.0\n",
       "4              81.1              12.8\n",
       "5              88.7               9.4\n",
       "6              87.5               7.8\n",
       "7              88.7               8.1\n",
       "8              86.0              16.8\n",
       "9              84.7              12.1"
      ]
     },
     "execution_count": 20,
     "metadata": {},
     "output_type": "execute_result"
    }
   ],
   "source": [
    "import pandas as pd\n",
    "df = pd.read_csv('states.csv')\n",
    "df.head(10)"
   ]
  },
  {
   "cell_type": "markdown",
   "metadata": {},
   "source": [
    "<b> Данные на координатной плоскости XoY </b> "
   ]
  },
  {
   "cell_type": "markdown",
   "metadata": {},
   "source": [
    "<img src=\"images/егэ.бедность.png\">"
   ]
  },
  {
   "cell_type": "markdown",
   "metadata": {},
   "source": [
    "## Общие сведения о линейной регрессии <a class=\"anchor\" id=\"1\">"
   ]
  },
  {
   "cell_type": "markdown",
   "metadata": {},
   "source": [
    "----"
   ]
  },
  {
   "cell_type": "markdown",
   "metadata": {},
   "source": [
    "Построение линейной регрессии сводится к оценке ее параметров $w_{0}, w_{1},...w_{n}$. Для этого вводят _функционал ошибки_ - $Q(f(x), y)$, который оценивает, как хорошо работает модель. "
   ]
  },
  {
   "cell_type": "markdown",
   "metadata": {
    "colab_type": "text",
    "id": "i8v9_4TB9INC"
   },
   "source": [
    "\n",
    "В качестве меры ошибки можно взять: \n",
    "* Абсолютное отклонение истинного значения от прогноза $Q(f(x),y)=f(x)-y$\n",
    "* Модуль отклонения $Q(f(x),y)=|f(x)-y|$. (mean absolute error, MAE):\n",
    "\n",
    "$$Q(f(x),x) = \\frac{1}{l}\\sum^{l}_{i=1}|f(x_{i})-y_{i}|.$$\n",
    "\n",
    "* Квадрат разности $Q(f(x),y)=(f(x)-y)^{2}$. (mean squared error, MSE):\n",
    "\n",
    "$$Q(f,x) = \\frac{1}{l}\\sum^{l}_{i=1}(f(x_{i})-y_{i})^{2}.$$"
   ]
  },
  {
   "cell_type": "markdown",
   "metadata": {},
   "source": [
    "## Линейная парная регрессия<a class=\"anchor\" id=\"1\">"
   ]
  },
  {
   "cell_type": "markdown",
   "metadata": {},
   "source": [
    "Условия применения:\n",
    "1. Линейная взаимосвязь x и y \n",
    "2. Гомоскедастичность (дисперсия случайных ошибок одинакова и конечна) : $\\forall i: \\text{Var}\\left(\\epsilon_i\\right) = \\sigma^2 < \\infty$;\n",
    "3. Нормальное распределение остатков\n",
    "\n",
    "https://gallery.shinyapps.io/slr_diag/"
   ]
  },
  {
   "cell_type": "markdown",
   "metadata": {},
   "source": [
    "Линейная парная регрессия описывается уравнением $\\hat{y} = w_{0} + w_{1}x + \\epsilon$ "
   ]
  },
  {
   "cell_type": "markdown",
   "metadata": {
    "colab_type": "text",
    "id": "BVlLfs339IM8"
   },
   "source": [
    "Классический подход к определению параметров линейной регрессии основан на <strong> методе наименьших квадратов (МНК)</strong>."
   ]
  },
  {
   "cell_type": "markdown",
   "metadata": {},
   "source": [
    "Тогда \n",
    "$$Q(f(x),y) = \\frac{1}{l}\\sum^{l}_{i=1}(y_{i} - f(x))^{2} \\rightarrow \\underset{w}{\\text{min}}$$\n",
    "\n",
    "$$Q(f(x),y) = \\frac{1}{l}\\sum^{l}_{i=1}(y_{i} - w_{0} - w_{1}x_{i})^{2} \\rightarrow \\underset{w}{\\text{min}}$$\n",
    "\n",
    "$$\\nabla_{w}Q(w,x,y) = 0 $$ \n",
    "\n",
    "\n",
    "$$\\nabla_{w}Q(w,x,y) = \\begin{cases}\n",
    "    \\frac{\\partial Q}{\\partial w_{0}} = 0\\\\\n",
    "    \\frac{\\partial Q}{\\partial w_{1}} = 0\n",
    "  \\end{cases} = \n",
    "  \\begin{cases}\n",
    "    \\frac{2}{l}\\sum^{l}_{i=1}( y_{i} - w_{0} - w_{1}x_{i})(-1) = 0\\\\\n",
    "    \\frac{2}{l}\\sum^{l}_{i=1}( y_{i} - w_{0} - w_{1}x_{i})(-x_{i}) = 0\n",
    "  \\end{cases}$$  \n",
    "   $$\\begin{cases}\n",
    "    -\\sum^{l}_{i=1} y_{i} + \\sum^{l}_{i=1} w_{0} + \\sum^{l}_{i=1}  w_{1}x_{i} = 0\\\\\n",
    "    -\\sum^{l}_{i=1} y_{i}x_{i} + \\sum^{l}_{i=1} w_{0}x_{i} + \\sum^{l}_{i=1}  w_{1}x_{i}^2 = 0\n",
    "  \\end{cases} = \n",
    "  \\begin{cases}\n",
    "    l*w_{0} + \\sum^{l}_{i=1}  w_{1}x_{i} = \\sum^{l}_{i=1} y_{i}\\\\\n",
    "    \\sum^{l}_{i=1} w_{0}x_{i} + \\sum^{l}_{i=1}  w_{1}x_{i}^2 = \\sum^{l}_{i=1} y_{i}x_{i}\n",
    "  \\end{cases}$$"
   ]
  },
  {
   "cell_type": "markdown",
   "metadata": {},
   "source": [
    "Найти коэффициенты можно методом Крамера:\n",
    "\n",
    "$w_{0} = \\frac{\\Delta_{w_{0}}}{\\Delta}, w_{1} = \\frac{\\Delta_{w_{1}}}{\\Delta}$"
   ]
  },
  {
   "cell_type": "markdown",
   "metadata": {},
   "source": [
    "$\\Delta = \\begin{vmatrix}\n",
    "     l & \\sum^{l}_{i=1} x_{i}\\\\ \n",
    "     \\sum^{l}_{i=1} x_{i} & \\sum^{l}_{i=1} x_{i}^2 \n",
    "\\end{vmatrix}$, \n",
    "$\\Delta_{w_{0}} = \\begin{vmatrix}\n",
    "     \\sum^{l}_{i=1} y_{i} & \\sum^{l}_{i=1} x_{i}\\\\ \n",
    "     \\sum^{l}_{i=1} x_{i}y_{i} & \\sum^{l}_{i=1} x_{i}^2 \n",
    "\\end{vmatrix}$, \n",
    "$\\Delta_{w_{1}} = \\begin{vmatrix}\n",
    "     l & \\sum^{l}_{i=1} y_{i}\\\\ \n",
    "     \\sum^{l}_{i=1} x_{i} & \\sum^{l}_{i=1} x_{i}y_{i} \n",
    "\\end{vmatrix}$"
   ]
  },
  {
   "cell_type": "markdown",
   "metadata": {},
   "source": [
    "Заметим, что $w_{1} = \\frac{\\Delta_{w_{1}}}{\\Delta} = \\frac{\\begin{vmatrix}\n",
    "     l & \\sum^{l}_{i=1} y_{i}\\\\ \n",
    "     \\sum^{l}_{i=1} x_{i} & \\sum^{l}_{i=1} x_{i}y_{i} \n",
    "\\end{vmatrix}}{\\begin{vmatrix}\n",
    "     l & \\sum^{l}_{i=1} x_{i}\\\\ \n",
    "     \\sum^{l}_{i=1} x_{i} & \\sum^{l}_{i=1} x_{i}^2 \n",
    "\\end{vmatrix}} = \\frac{l*\\sum^{l}_{i=1} x_{i}y_{i} - \\sum^{l}_{i=1} x_{i}\\sum^{l}_{i=1} y_{i}}{l*\\sum^{l}_{i=1} x_{i}^2 - \\sum^{l}_{i=1} x_{i}\\sum^{l}_{i=1} x_{i}} = \\frac{\\frac{\\sum^{l}_{i=1} x_{i}y_{i}}{l} - \\frac{\\sum^{l}_{i=1} x_{i}\\sum^{l}_{i=1} y_{i}}{2l}}{\\frac{\\sum^{l}_{i=1} x_{i}^2}{l} - \\frac{\\sum^{l}_{i=1} x_{i}\\sum^{l}_{i=1} x_{i}}{2l}} = \\frac{\\bar{xy}-\\bar{x}\\bar{y}}{\\bar{x^2} - \\bar{x}^2}$"
   ]
  },
  {
   "cell_type": "markdown",
   "metadata": {},
   "source": [
    "$$w_{1} = \\frac{\\bar{xy}-\\bar{x}\\bar{y}}{\\bar{x^2} - \\bar{x}^2} = \\frac{\\text{Cov}\\left(x, y\\right)}{\\text{Var}\\left(x\\right)} = r_{xy} \\frac{\\sigma_{y}}{\\sigma_{x}}$$\n",
    "\n",
    "Значит решением будет \n",
    "$$\\begin{cases}\n",
    "    w_{1} = r_{xy} \\frac{\\sigma_{y}}{\\sigma_{x}}\\\\\n",
    "    w_{0} = \\bar{y} - w_{1}\\bar{x}\n",
    "  \\end{cases}$$  "
   ]
  },
  {
   "cell_type": "markdown",
   "metadata": {},
   "source": [
    "### Метод наименьших квадратов"
   ]
  },
  {
   "cell_type": "markdown",
   "metadata": {},
   "source": [
    "Напомним,что мы ищем коэффициенты $w_{i}$, при которых функционал ошибки будет минимален. "
   ]
  },
  {
   "cell_type": "markdown",
   "metadata": {
    "colab_type": "text",
    "id": "JpzXCWHG9INE"
   },
   "source": [
    "Пусть $Q(f(x),y) = \\frac{1}{l}\\sum^{l}_{i=1}(f(x) -y_{i})^{2}$, тогда наша цель  $Q(f(x),y)\\rightarrow \\underset{w}{\\text{min}}.$\n",
    "\n",
    "Способ вычисления коэффициентов путем минимизации среднеквадратичного отклонения называется **методом наименьших квадратов**."
   ]
  },
  {
   "cell_type": "markdown",
   "metadata": {},
   "source": [
    "#### Теорема Гауса-Маркова"
   ]
  },
  {
   "cell_type": "markdown",
   "metadata": {},
   "source": [
    "Если данные обладают следующими свойствами:\n",
    "\n",
    "1. Модель данных правильно специфицирована;\n",
    "2. Все $\\displaystyle x_{i}$ детерминированы и не все равны между собой; \n",
    "3. Мат.ожидание случайных ошибок равно нулю: $\\forall i: \\mathbb{E}\\left[\\epsilon_i\\right] = 0$;\n",
    "4. Гомоскедастичность (дисперсия случайных ошибок одинакова и конечна) : $\\forall i: \\text{Var}\\left(\\epsilon_i\\right) = \\sigma^2 < \\infty$;\n",
    "5. Случайные ошибки не скоррелированы: $\\forall i \\neq j: \\text{Cov}\\left(\\epsilon_i, \\epsilon_j\\right) = 0$."
   ]
  },
  {
   "cell_type": "markdown",
   "metadata": {},
   "source": [
    "Тогда оценки, полученные <b> МНК</b> являются лучшими в классе линейных несмещённых оценок (Best Linear Unbiased Estimators, BLUE)."
   ]
  },
  {
   "cell_type": "markdown",
   "metadata": {},
   "source": [
    "## Линейная множественная регрессия<a class=\"anchor\" id=\"2\">"
   ]
  },
  {
   "cell_type": "markdown",
   "metadata": {},
   "source": [
    "Условия применения:\n",
    "1. Линейная взаимосвязь X и Y \n",
    "2. Гомоскедастичность (дисперсия случайных ошибок одинакова и конечна) : $\\forall i: \\text{Var}\\left(\\epsilon_i\\right) = \\sigma^2 < \\infty$;\n",
    "3. Нормальное распределение остатков\n",
    "\n",
    "https://gallery.shinyapps.io/slr_diag/"
   ]
  },
  {
   "cell_type": "markdown",
   "metadata": {},
   "source": [
    "Линейная множественная регрессия описывается уравнением $\\hat{y} = w_{0} + w_{1}x_{1} + w_{2}x_{2} + \\dots + w_{l}x_{l} + \\epsilon$ "
   ]
  },
  {
   "cell_type": "markdown",
   "metadata": {},
   "source": [
    "Воспользуемся МНК, чтобы узнать коэффициенты"
   ]
  },
  {
   "cell_type": "markdown",
   "metadata": {},
   "source": [
    "$$Q(f(x),y) = \\frac{1}{l}\\sum^{l}_{i=1}(y_{i} - w_{0} - w_{1}x_{1i} - \\dots - w_{l}x_{li})^{2} \\rightarrow \\underset{w_{i}}{\\text{min}}$$\n",
    "\n",
    "$$\\nabla_{w}Q(w,x,y) = 0 $$ \n",
    "\n",
    "\n",
    "$$\\nabla_{w}Q(w,x,y) = \\begin{cases}\n",
    "    \\frac{\\partial Q}{\\partial w_{0}} = 0\\\\\n",
    "    \\frac{\\partial Q}{\\partial w_{1}} = 0\\\\\n",
    "    \\dots \\\\\n",
    "    \\frac{\\partial Q}{\\partial w_{l}} = 0\n",
    "  \\end{cases} = \n",
    "  \\begin{cases}\n",
    "    \\frac{2}{l}\\sum^{l}_{i=1}( y_{i} - w_{0} - w_{1}x_{1i} - \\dots - w_{l}x_{li})(-1) = 0\\\\\n",
    "    \\frac{2}{l}\\sum^{l}_{i=1}( y_{i} - w_{0} - w_{1}x_{1i} - \\dots - w_{l}x_{li})(-x_{1i}) = 0\\\\\n",
    "    \\dots\\\\\n",
    "    \\frac{2}{l}\\sum^{l}_{i=1}( y_{i} - w_{0} - w_{1}x_{1i} - \\dots - w_{l}x_{li})(-x_{li}) = 0\n",
    "  \\end{cases}$$  \n",
    "   $$\\begin{cases}\n",
    "    -\\sum^{l}_{i=1} y_{i} + \\sum^{l}_{i=1} w_{0} + \\sum^{l}_{i=1}  w_{1}x_{1i} + \\dots + \\sum^{l}_{i=1}w_{l}x_{li}= 0\\\\\n",
    "    -\\sum^{l}_{i=1} y_{i}x_{1i} + \\sum^{l}_{i=1} w_{0}x_{1i} + \\sum^{l}_{i=1}  w_{1}x_{1i}^2 + \\dots + \\sum^{l}_{i=1}w_{l}x_{li}x_{1i}= 0\\\\\n",
    "    \\dots\\\\\n",
    "    -\\sum^{l}_{i=1} y_{i}x_{li} + \\sum^{l}_{i=1} w_{0}x_{li} + \\sum^{l}_{i=1}  w_{1}x_{1i}x_{li} + \\dots + \\sum^{l}_{i=1}w_{l}x_{li}^2 = 0\n",
    "  \\end{cases} = \n",
    "  \\begin{cases}\n",
    "    l*w_{0} + \\sum^{l}_{i=1}  w_{1}x_{1i} + \\dots + \\sum^{l}_{i=1}w_{l}x_{li}= \\sum^{l}_{i=1} y_{i}\\\\\n",
    "    \\sum^{l}_{i=1} w_{0}x_{1i} + \\sum^{l}_{i=1}  w_{1}x_{1i}^2 + \\dots + \\sum^{l}_{i=1}w_{l}x_{li}x_{1i} = \\sum^{l}_{i=1} y_{i}x_{1i} \\\\\n",
    "    \\dots\\\\\n",
    "    \\sum^{l}_{i=1} w_{0}x_{li} + \\sum^{l}_{i=1}  w_{1}x_{1i}x_{li} + \\dots + \\sum^{l}_{i=1}w_{l}x_{li}^2 = \\sum^{l}_{i=1} y_{i}x_{li}\n",
    "  \\end{cases}$$"
   ]
  },
  {
   "cell_type": "markdown",
   "metadata": {},
   "source": [
    "По аналогии с парной регрессией находим коэффициенты методом Крамера"
   ]
  },
  {
   "cell_type": "markdown",
   "metadata": {},
   "source": [
    "## Элементы матричного анализа<a class=\"anchor\" id=\"2\">"
   ]
  },
  {
   "cell_type": "code",
   "execution_count": 34,
   "metadata": {},
   "outputs": [
    {
     "data": {
      "text/html": [
       "<div>\n",
       "<style scoped>\n",
       "    .dataframe tbody tr th:only-of-type {\n",
       "        vertical-align: middle;\n",
       "    }\n",
       "\n",
       "    .dataframe tbody tr th {\n",
       "        vertical-align: top;\n",
       "    }\n",
       "\n",
       "    .dataframe thead th {\n",
       "        text-align: right;\n",
       "    }\n",
       "</style>\n",
       "<table border=\"1\" class=\"dataframe\">\n",
       "  <thead>\n",
       "    <tr style=\"text-align: right;\">\n",
       "      <th></th>\n",
       "      <th>state</th>\n",
       "      <th>metro_res</th>\n",
       "      <th>white</th>\n",
       "      <th>hs_grad</th>\n",
       "      <th>poverty</th>\n",
       "      <th>female_house</th>\n",
       "    </tr>\n",
       "  </thead>\n",
       "  <tbody>\n",
       "    <tr>\n",
       "      <th>0</th>\n",
       "      <td>Alabama</td>\n",
       "      <td>55.4</td>\n",
       "      <td>71.3</td>\n",
       "      <td>79.9</td>\n",
       "      <td>14.6</td>\n",
       "      <td>14.2</td>\n",
       "    </tr>\n",
       "    <tr>\n",
       "      <th>1</th>\n",
       "      <td>Alaska</td>\n",
       "      <td>65.6</td>\n",
       "      <td>70.8</td>\n",
       "      <td>90.6</td>\n",
       "      <td>8.3</td>\n",
       "      <td>10.8</td>\n",
       "    </tr>\n",
       "    <tr>\n",
       "      <th>2</th>\n",
       "      <td>Arizona</td>\n",
       "      <td>88.2</td>\n",
       "      <td>87.7</td>\n",
       "      <td>83.8</td>\n",
       "      <td>13.3</td>\n",
       "      <td>11.1</td>\n",
       "    </tr>\n",
       "    <tr>\n",
       "      <th>3</th>\n",
       "      <td>Arkansas</td>\n",
       "      <td>52.5</td>\n",
       "      <td>81.0</td>\n",
       "      <td>80.9</td>\n",
       "      <td>18.0</td>\n",
       "      <td>12.1</td>\n",
       "    </tr>\n",
       "    <tr>\n",
       "      <th>4</th>\n",
       "      <td>California</td>\n",
       "      <td>94.4</td>\n",
       "      <td>77.5</td>\n",
       "      <td>81.1</td>\n",
       "      <td>12.8</td>\n",
       "      <td>12.6</td>\n",
       "    </tr>\n",
       "    <tr>\n",
       "      <th>5</th>\n",
       "      <td>Colorado</td>\n",
       "      <td>84.5</td>\n",
       "      <td>90.2</td>\n",
       "      <td>88.7</td>\n",
       "      <td>9.4</td>\n",
       "      <td>9.6</td>\n",
       "    </tr>\n",
       "    <tr>\n",
       "      <th>6</th>\n",
       "      <td>Connecticut</td>\n",
       "      <td>87.7</td>\n",
       "      <td>85.4</td>\n",
       "      <td>87.5</td>\n",
       "      <td>7.8</td>\n",
       "      <td>12.1</td>\n",
       "    </tr>\n",
       "    <tr>\n",
       "      <th>7</th>\n",
       "      <td>Delaware</td>\n",
       "      <td>80.1</td>\n",
       "      <td>76.3</td>\n",
       "      <td>88.7</td>\n",
       "      <td>8.1</td>\n",
       "      <td>13.1</td>\n",
       "    </tr>\n",
       "    <tr>\n",
       "      <th>8</th>\n",
       "      <td>District  of Columbia</td>\n",
       "      <td>100.0</td>\n",
       "      <td>36.2</td>\n",
       "      <td>86.0</td>\n",
       "      <td>16.8</td>\n",
       "      <td>18.9</td>\n",
       "    </tr>\n",
       "    <tr>\n",
       "      <th>9</th>\n",
       "      <td>Florida</td>\n",
       "      <td>89.3</td>\n",
       "      <td>80.6</td>\n",
       "      <td>84.7</td>\n",
       "      <td>12.1</td>\n",
       "      <td>12.0</td>\n",
       "    </tr>\n",
       "  </tbody>\n",
       "</table>\n",
       "</div>"
      ],
      "text/plain": [
       "                   state  metro_res  white  hs_grad  poverty  female_house\n",
       "0                Alabama       55.4   71.3     79.9     14.6          14.2\n",
       "1                 Alaska       65.6   70.8     90.6      8.3          10.8\n",
       "2                Arizona       88.2   87.7     83.8     13.3          11.1\n",
       "3               Arkansas       52.5   81.0     80.9     18.0          12.1\n",
       "4             California       94.4   77.5     81.1     12.8          12.6\n",
       "5               Colorado       84.5   90.2     88.7      9.4           9.6\n",
       "6            Connecticut       87.7   85.4     87.5      7.8          12.1\n",
       "7               Delaware       80.1   76.3     88.7      8.1          13.1\n",
       "8  District  of Columbia      100.0   36.2     86.0     16.8          18.9\n",
       "9                Florida       89.3   80.6     84.7     12.1          12.0"
      ]
     },
     "execution_count": 34,
     "metadata": {},
     "output_type": "execute_result"
    }
   ],
   "source": [
    "import pandas as pd\n",
    "df = pd.read_csv('states1.csv')\n",
    "df.head(10)"
   ]
  },
  {
   "cell_type": "markdown",
   "metadata": {},
   "source": [
    "Регрессионную модель можно представить в виде \n",
    "$\\hat{y} = w_{0} + \\displaystyle\\sum_{i=1}^{n} w_{i}x_{i} + \\epsilon$ \n",
    "\n",
    "Теперь давайте фиктивно добавим ещё один признак, при котором $\\forall i: x_{i}=1$, тогда $\\hat{y} = \\displaystyle\\sum_{i=0}^{n} w_{i}x_{i} + \\epsilon$"
   ]
  },
  {
   "cell_type": "markdown",
   "metadata": {
    "colab_type": "text",
    "id": "eC50nWZ69INE"
   },
   "source": [
    "Имеет смысл переписать имеющиеся соотношения в матричном виде. В матрицу \"объекты-признаки\" впишем по строкам $d$ признаков для всех $l$ объектов из обучающей выборки: \n",
    "\n",
    "$$X = \\begin{pmatrix}\n",
    "x_{11} & ... & x_{1d}\\\\ \n",
    "... & ... & ...\\\\ \n",
    "x_{l1} & ... & x_{ld}\n",
    "\\end{pmatrix},$$\n",
    "коэффициенты запишем в $w$: $$w = \\begin{pmatrix}\n",
    "w_{0}\\\\ \n",
    "...\\\\ \n",
    "w_{l}\n",
    "\\end{pmatrix},$$\n",
    "и составим вектор ответов $y$ из истинных ответов для данной выборки:\n",
    "\n",
    "$$y = \\begin{pmatrix}\n",
    "y_{1}\\\\ \n",
    "...\\\\ \n",
    "y_{l}\n",
    "\\end{pmatrix}.$$\n",
    "\n",
    "Переписанная в матричном виде задача будет выглядеть следующим образом:\n",
    "\n",
    "$$Q(w, X) = \\frac{1}{l}||Xw-y||^{2}\\rightarrow \\underset{w}{\\text{min}}$$"
   ]
  },
  {
   "cell_type": "markdown",
   "metadata": {},
   "source": [
    "$\\nabla_{w}Q(w,X) = \\frac{2}{l}X^{T}(Xw-y).$\n",
    "\n",
    "$\\frac{2}{l}X^{T}(Xw-y) = 0$\n",
    "\n",
    "$X^{T}(Xw-y) = 0$\n",
    "\n",
    "$X^{T}Xw-X^{T}y = 0$\n",
    "\n",
    "$w = \\frac{X^{T}y}{X^{T}X}$\n",
    "\n",
    "$w = (X^{T}X)^{-1}X^{T}y $\n"
   ]
  },
  {
   "cell_type": "markdown",
   "metadata": {},
   "source": [
    "__Заметка__ \n",
    "\n",
    "Теперь видно, почему надо избавляться от мультиколлинеарности в регрессионных моделях"
   ]
  },
  {
   "cell_type": "markdown",
   "metadata": {},
   "source": [
    "_________"
   ]
  },
  {
   "cell_type": "markdown",
   "metadata": {
    "colab_type": "text",
    "id": "1eW4aV609ING"
   },
   "source": [
    "Продифференцировав данную функцию по вектору $w$ и приравняв к нулю, можно получить явную анатилическую формулу для решения задачи минимизации:\n",
    "\n",
    "$$w = (X^{T}X)^{-1}X^{T}y.$$\n",
    "\n",
    "Это решение называется _нормальным уравнением_ линейной регрессии. Наличие аналитического решения кажется положительным фактором, однако, у него есть некоторые минусы, среди которых вычислительная сложность операции (обращение матрицы $X^{T}X$ будет иметь кубическую сложность от количества признаков $d^{3}$), а также тот факт, что матрица $X^{T}X$ может быть вырожденной и поэтому необратимой. Тогда найти решение будет невозможно.\n"
   ]
  },
  {
   "cell_type": "markdown",
   "metadata": {
    "colab_type": "text",
    "id": "C63Alg-A9INH"
   },
   "source": [
    "Более удобным подходом будет разработка решения либо с помощью численных методов оптимизации, одним из которых является _градиентный спуск_, либо с регуляризацией."
   ]
  }
 ],
 "metadata": {
  "colab": {
   "name": "Lesson_1.ipynb",
   "provenance": []
  },
  "kernelspec": {
   "display_name": "Python 3 (ipykernel)",
   "language": "python",
   "name": "python3"
  },
  "language_info": {
   "codemirror_mode": {
    "name": "ipython",
    "version": 3
   },
   "file_extension": ".py",
   "mimetype": "text/x-python",
   "name": "python",
   "nbconvert_exporter": "python",
   "pygments_lexer": "ipython3",
   "version": "3.9.13"
  }
 },
 "nbformat": 4,
 "nbformat_minor": 1
}
